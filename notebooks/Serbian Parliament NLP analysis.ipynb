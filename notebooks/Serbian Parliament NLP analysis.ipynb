{
 "cells": [
  {
   "cell_type": "markdown",
   "id": "9f4ec8ba-c552-4c2e-94ca-e44008d065f0",
   "metadata": {},
   "source": [
    "# Serbian Parliament NLP analysis"
   ]
  },
  {
   "cell_type": "markdown",
   "id": "9169efe4-ec78-43c4-85ce-538c41238c30",
   "metadata": {},
   "source": [
    "## Setup & Imports"
   ]
  },
  {
   "cell_type": "code",
   "execution_count": null,
   "id": "4c3c278a-8a02-4be4-a218-9da66d37c9dc",
   "metadata": {},
   "outputs": [],
   "source": [
    "# Imports\n",
    "import json\n",
    "import pandas as pd\n",
    "import matplotlib.pyplot as plt\n",
    "from wordcloud import WordCloud\n",
    "from collections import Counter\n",
    "import logging\n",
    "from gensim import corpora, models\n",
    "import stanza"
   ]
  },
  {
   "cell_type": "code",
   "execution_count": null,
   "id": "73ac5e9d-2188-4019-891f-a4ed67b0b2e4",
   "metadata": {},
   "outputs": [],
   "source": [
    "# Logging\n",
    "logging.basicConfig(level=logging.INFO)"
   ]
  },
  {
   "cell_type": "code",
   "execution_count": null,
   "id": "7861b989-57ba-4f6f-b767-28ec67af7dc4",
   "metadata": {},
   "outputs": [],
   "source": [
    "# Stanza pipeline\n",
    "nlp = stanza.Pipeline(\"sr\", processors=\"tokenize,pos,lemma\", use_gpu=False)"
   ]
  },
  {
   "cell_type": "code",
   "execution_count": null,
   "id": "355aac54-74c3-4ea9-9f9c-365f940fb88c",
   "metadata": {},
   "outputs": [],
   "source": [
    "# Config\n",
    "DATA_PATH = \"/home/vuk/Documents/0 Data Science/parliament-nlp-analysis/data/speeches.json\"\n",
    "STOPWORDS_PATH = \"/home/vuk/Documents/0 Data Science/parliament-nlp-analysis/stopwords_serbian.txt\"\n",
    "NUM_TOPICS = 5"
   ]
  },
  {
   "cell_type": "markdown",
   "id": "d44029e6-28f9-4097-a264-3fb6c86f65af",
   "metadata": {},
   "source": [
    "## Data Loading"
   ]
  },
  {
   "cell_type": "code",
   "execution_count": null,
   "id": "646b36ec-7256-48d8-b9ed-fbad6f9bf237",
   "metadata": {},
   "outputs": [],
   "source": [
    "def load_data(path):\n",
    "    try:\n",
    "        with open(path, encoding=\"utf-8\") as f:\n",
    "            data = json.load(f)\n",
    "        logging.info(f\"Loaded {len(data)} records from {path}\")\n",
    "        return pd.DataFrame(data)\n",
    "    except FileNotFoundError:\n",
    "        logging.error(f\"File not found: {path}\")\n",
    "        return pd.DataFrame()"
   ]
  },
  {
   "cell_type": "code",
   "execution_count": null,
   "id": "37ce555d-b798-40ae-b772-001335e2438e",
   "metadata": {},
   "outputs": [],
   "source": [
    "def load_stopwords(path):\n",
    "    with open(path, encoding=\"utf-8\") as f:\n",
    "        return set(line.strip().lower() for line in f if line.strip())"
   ]
  },
  {
   "cell_type": "code",
   "execution_count": null,
   "id": "e14554c5-1670-4078-b8b8-454d573a309f",
   "metadata": {},
   "outputs": [],
   "source": [
    "# Load\n",
    "df = load_data(DATA_PATH)\n",
    "stopwords = load_stopwords(STOPWORDS_PATH)"
   ]
  },
  {
   "cell_type": "markdown",
   "id": "01b74121-018d-4936-9210-54e6cf7a1783",
   "metadata": {},
   "source": [
    "## Preprocessing"
   ]
  },
  {
   "cell_type": "code",
   "execution_count": null,
   "id": "6d55424f-739c-44d3-b75b-08ad57c3f3f3",
   "metadata": {},
   "outputs": [],
   "source": [
    "def tokenize_and_lemmatize(text, stopwords):\n",
    "    doc = nlp(text)\n",
    "    return [\n",
    "        word.lemma.lower()\n",
    "        for sent in doc.sentences\n",
    "        for word in sent.words\n",
    "        if word.lemma and word.lemma.lower() not in stopwords and len(word.lemma) > 3\n",
    "    ]"
   ]
  },
  {
   "cell_type": "code",
   "execution_count": null,
   "id": "c8bfd6ad-14e5-4545-9274-17ad89002280",
   "metadata": {},
   "outputs": [],
   "source": [
    "# Basic Cleaning\n",
    "df['speech'] = df['speech'].astype(str)\n",
    "df['speaker'] = df['speaker'].astype(str)\n",
    "df['speech_len'] = df['speech'].str.len()"
   ]
  },
  {
   "cell_type": "code",
   "execution_count": null,
   "id": "41f6ab28-8d01-43d7-989e-4cb90872dd83",
   "metadata": {},
   "outputs": [],
   "source": [
    "# Tokenize and Clean\n",
    "df['clean_tokens'] = df['speech'].apply(lambda x: tokenize_and_lemmatize(x, stopwords))\n",
    "df['clean_text'] = df['clean_tokens'].apply(lambda tokens: ' '.join(tokens))"
   ]
  },
  {
   "cell_type": "markdown",
   "id": "ccc5de18-1ca9-4725-81b5-4d3d263ad054",
   "metadata": {},
   "source": [
    "## Visualizations"
   ]
  },
  {
   "cell_type": "code",
   "execution_count": null,
   "id": "02dd51bd-a054-48df-95d5-0b6783af77fc",
   "metadata": {},
   "outputs": [],
   "source": [
    "def plot_wordcloud(frequencies, title='Most Common Non-Stop Words'):\n",
    "    wordcloud = WordCloud(width=800, height=400, background_color=\"white\").generate_from_frequencies(frequencies)\n",
    "    plt.figure(figsize=(12, 6))\n",
    "    plt.imshow(wordcloud, interpolation='bilinear')\n",
    "    plt.axis('off')\n",
    "    plt.title(title)\n",
    "    plt.show()"
   ]
  },
  {
   "cell_type": "code",
   "execution_count": null,
   "id": "fc2037ba-3c06-41b6-bf59-e460866495fb",
   "metadata": {},
   "outputs": [],
   "source": [
    "def plot_histogram(data, title, xlabel, ylabel, bins=20, xlim=None):\n",
    "    plt.figure(figsize=(8, 5))\n",
    "    data.hist(bins=bins, color='skyblue')\n",
    "    plt.title(title)\n",
    "    plt.xlabel(xlabel)\n",
    "    plt.ylabel(ylabel)\n",
    "    if xlim:\n",
    "        plt.xlim(*xlim)\n",
    "    plt.grid(True)\n",
    "    plt.show()"
   ]
  },
  {
   "cell_type": "markdown",
   "id": "fa0ed4f1-9087-4cff-84f9-5299d30a8149",
   "metadata": {},
   "source": [
    "## WordCloud + Length Distribution"
   ]
  },
  {
   "cell_type": "code",
   "execution_count": null,
   "id": "e171a12a-2976-4642-aa74-63a0f5af88ca",
   "metadata": {},
   "outputs": [],
   "source": [
    "# Word Frequency\n",
    "word_freq = Counter()\n",
    "df['clean_tokens'].apply(lambda tokens: word_freq.update(tokens))"
   ]
  },
  {
   "cell_type": "code",
   "execution_count": null,
   "id": "d26dd288-f35a-4117-862b-d63318176336",
   "metadata": {},
   "outputs": [],
   "source": [
    "# Plot\n",
    "plot_wordcloud(word_freq)\n",
    "plot_histogram(df['speech_len'], 'Distribution of Speech Lengths', 'Speech Length (Characters)', 'Number of Speeches', xlim=(0, 30000))"
   ]
  },
  {
   "cell_type": "markdown",
   "id": "5d43f9f6-735b-4cc1-9738-cd3ae81aa377",
   "metadata": {},
   "source": [
    "Speeches follow a typical power-law distribution — a few are very long, but most are short and to the point. You could use this to analyze verbosity by speaker or party."
   ]
  },
  {
   "cell_type": "markdown",
   "id": "24e55f42-5c00-4786-adf3-faba2fc4800d",
   "metadata": {},
   "source": [
    "## Topic Modeling"
   ]
  },
  {
   "cell_type": "code",
   "execution_count": null,
   "id": "d594b47b-4c5d-4c66-9e5c-d7e5e5fa696b",
   "metadata": {},
   "outputs": [],
   "source": [
    "def topic_modeling(texts, num_topics=5):\n",
    "    dictionary = corpora.Dictionary(texts)\n",
    "    corpus = [dictionary.doc2bow(text) for text in texts]\n",
    "    lda = models.LdaModel(corpus, num_topics=num_topics, id2word=dictionary, passes=10, random_state=42)\n",
    "    return lda.print_topics(num_words=15)"
   ]
  },
  {
   "cell_type": "code",
   "execution_count": null,
   "id": "1577ca78-2e34-4e5f-8846-3df6afb21459",
   "metadata": {},
   "outputs": [],
   "source": [
    "# Topics\n",
    "topics = topic_modeling(df['clean_tokens'].tolist(), NUM_TOPICS)\n",
    "for i, topic in topics:\n",
    "    print(f\"Topic {i}: {topic}\")"
   ]
  },
  {
   "cell_type": "markdown",
   "id": "05d3e67a-06a1-4157-b1aa-a470ce90a330",
   "metadata": {},
   "source": [
    "| Topic | Label                               |\n",
    "| ----- | ----------------------------------- |\n",
    "| 0     | General Discourse / Filler Topic    |\n",
    "| 1     | Conversational Rhetoric             |\n",
    "| 2     | Economy and Industry                |\n",
    "| 3     | National Policy and Legal Framework |\n",
    "| 4     | Legislative Procedures and Voting   |"
   ]
  },
  {
   "cell_type": "markdown",
   "id": "1a397b6d-9c20-4958-9bf4-39a29246e2bc",
   "metadata": {},
   "source": [
    "## Sentiment Analysis"
   ]
  },
  {
   "cell_type": "code",
   "execution_count": null,
   "id": "604431f6-c995-4e2e-9a53-6026aef22dfb",
   "metadata": {},
   "outputs": [],
   "source": [
    "def simple_sentiment(tokens, pos_words, neg_words):\n",
    "    pos = sum(1 for t in tokens if t in pos_words)\n",
    "    neg = sum(1 for t in tokens if t in neg_words)\n",
    "    return pos - neg"
   ]
  },
  {
   "cell_type": "code",
   "execution_count": null,
   "id": "22ff4eba-213a-4f87-9ee1-781d9454edf3",
   "metadata": {},
   "outputs": [],
   "source": [
    "# Example lexicons\n",
    "positive_words = {'добро', 'хвала', 'напредак', 'подржавам'}\n",
    "negative_words = {'лоше', 'корупција', 'лаж', 'критика'}\n",
    "\n",
    "df['sentiment'] = df['clean_tokens'].apply(lambda tokens: simple_sentiment(tokens, positive_words, negative_words))\n",
    "\n",
    "plot_histogram(df['sentiment'], 'Sentiment Score Distribution', 'Sentiment Score', 'Number of Speeches')"
   ]
  },
  {
   "cell_type": "markdown",
   "id": "e535ae63-8d44-486c-a34f-42eef630b6a2",
   "metadata": {},
   "source": [
    "Most speeches are neutral-to-mildly positive in tone, with few outliers. You might need a more nuanced sentiment lexicon for better accuracy in Serbian."
   ]
  },
  {
   "cell_type": "markdown",
   "id": "f9a23419-d749-46fe-a4e8-0c2663005aec",
   "metadata": {},
   "source": [
    "## Summary (Optional Export)"
   ]
  },
  {
   "cell_type": "code",
   "execution_count": null,
   "id": "ad2eae9d-7146-4412-9a68-b42bd363700b",
   "metadata": {},
   "outputs": [],
   "source": [
    "# Export final DataFrame with clean text and sentiment\n",
    "df[['speaker', 'speech', 'clean_text', 'speech_len', 'sentiment']].to_csv(\"cleaned_speeches.csv\", index=False)\n",
    "print(\"Exported cleaned data.\")"
   ]
  }
 ],
 "metadata": {
  "kernelspec": {
   "display_name": "Python 3 (ipykernel)",
   "language": "python",
   "name": "python3"
  },
  "language_info": {
   "codemirror_mode": {
    "name": "ipython",
    "version": 3
   },
   "file_extension": ".py",
   "mimetype": "text/x-python",
   "name": "python",
   "nbconvert_exporter": "python",
   "pygments_lexer": "ipython3",
   "version": "3.11.12"
  }
 },
 "nbformat": 4,
 "nbformat_minor": 5
}
